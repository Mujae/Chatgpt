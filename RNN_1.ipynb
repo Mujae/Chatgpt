{
 "cells": [
  {
   "cell_type": "markdown",
   "id": "73523f8b-1c9b-46df-a567-864ae6a1f9df",
   "metadata": {},
   "source": [
    "## RNN + LSTM을 위한 공부-1\n",
    "#### 순차 데이터와 순환 신경망"
   ]
  },
  {
   "cell_type": "markdown",
   "id": "5c3a1fbe-e09d-4afb-90c2-61b5d91cac23",
   "metadata": {},
   "source": [
    "순차데이터: 텍스트나 시계열 데이터와 같이 순서에 의미가 있는 데이터"
   ]
  },
  {
   "cell_type": "markdown",
   "id": "4c54fc05-f786-48bc-86aa-3c5dc521ac43",
   "metadata": {},
   "source": [
    "-> 순차데이터를 다룰 때는 이전에 입력한 데이터를 기억하는 기능이 필요함"
   ]
  },
  {
   "cell_type": "markdown",
   "id": "4ca2a976-513b-4444-b325-61669539a2a8",
   "metadata": {},
   "source": [
    "층 == 셀(cell), 셀의 출력을 은닉상태라고 함"
   ]
  },
  {
   "cell_type": "markdown",
   "id": "67f414ba-ec8b-4bd3-9fb5-2c9f12a5cc05",
   "metadata": {},
   "source": [
    "샘플을 처리하는 한 단계를 타임스텝이라고 함"
   ]
  },
  {
   "cell_type": "markdown",
   "id": "c9f5e4e3-44f6-48fb-989b-4f202545c460",
   "metadata": {},
   "source": [
    "일반적으로 은닉층의 활성화 함수로는 tanh를 사용."
   ]
  },
  {
   "cell_type": "markdown",
   "id": "a1d7570b-ec3d-455b-90d1-1ef627c7502d",
   "metadata": {},
   "source": [
    "순환 신경망은 이전 타임스텝의 은닉상태에 곱해지는 가중치도 있다."
   ]
  },
  {
   "cell_type": "markdown",
   "id": "3564e34a-39f7-4106-8597-50d697de02e4",
   "metadata": {},
   "source": [
    "h0(타임스텝 1에서 사용)은 0임"
   ]
  },
  {
   "cell_type": "markdown",
   "id": "7a232b6b-1cee-47d6-8cf4-644352e2167c",
   "metadata": {},
   "source": [
    "### 이전 타임스텝의 은닉 상태는 다음 타임스텝의 뉴런에 완전 연결됨."
   ]
  },
  {
   "cell_type": "markdown",
   "id": "51068950-567e-431b-808a-4bb5d775a47c",
   "metadata": {},
   "source": [
    "하나의 샘플은 시퀀스 길이 + 단어 표현의 2차원 배열임 -> 순환층을 통과하면 1차원 배열로 바뀜  \n",
    "해당 크기는 뉴런 개수에 의해 결정됨"
   ]
  },
  {
   "cell_type": "markdown",
   "id": "ef172ec7-a5e9-4420-b0be-3fe395547eab",
   "metadata": {},
   "source": [
    "순환 신경망도 여러 개의 층을 쌓을 수 있는데 만약 두 개의 셀을 연결한다 생각하면 첫 번째 셀은 두 번째 셀에 입력을 줄 때 2차원 배열로 주기 위해서 모든 타임스텝의 은닉 상태를 출력하고 두 번째 셀은 원래 셀이 출력하듯이 마지막 타임스텝의 은닉 상태만 출력한다."
   ]
  },
  {
   "cell_type": "markdown",
   "id": "1409b353-e445-411a-965c-cf32e19dbaa0",
   "metadata": {},
   "source": [
    "순환신경망도 다중분류일 경우에는 출력층에 클래스 개수만큼 뉴런을 두고 소프트맥스 함수를 사용하고 이진 분류일 경우에는 하나의 뉴런을 두고 시그모이드 활성화 함수를 사용함."
   ]
  },
  {
   "cell_type": "markdown",
   "id": "7e8b6bd7-5fc6-4d74-8133-5380495e6570",
   "metadata": {},
   "source": [
    "## RNN + LSTM을 위한 공부-2\n",
    "#### 순환 신경망으로 IMDB 리뷰 분류하기"
   ]
  },
  {
   "cell_type": "markdown",
   "id": "84d3e9c2-7513-471c-a59c-346ce66079b5",
   "metadata": {},
   "source": [
    "텍스트 데이터의 경우 단어를 숫자 데이터로 바꾸는 일반적인 방법은 데이터에 등장하는 단어마다 고유한 정수를 부여하는 것임. 공백을 기준으로 하고 부린된 단어를 토큰이라고 부름  \n",
    "여기서 토큰에 할당 된 정수 중에 0은 패딩 1은 문장의 시작 2는 어휘 사전에 없는 토큰으로 사용."
   ]
  },
  {
   "cell_type": "markdown",
   "id": "fd0c05b2-2f5a-4a5e-bb03-92fd846c71ca",
   "metadata": {},
   "source": [
    "어휘사전: 훈련 세트에서 고유한 단어를 뽑아 만든 목록"
   ]
  },
  {
   "cell_type": "code",
   "execution_count": 2,
   "id": "285a2b85-5567-4260-a56d-afd3e5833b66",
   "metadata": {},
   "outputs": [
    {
     "name": "stdout",
     "output_type": "stream",
     "text": [
      "Downloading data from https://storage.googleapis.com/tensorflow/tf-keras-datasets/imdb.npz\n",
      "17464789/17464789 [==============================] - 3s 0us/step\n"
     ]
    }
   ],
   "source": [
    "from tensorflow.keras.datasets import imdb\n",
    "(train_input, train_target), (test_input, test_target) = imdb.load_data(num_words=500)"
   ]
  },
  {
   "cell_type": "code",
   "execution_count": 5,
   "id": "792ae621-3dca-40fa-b018-62a1b0ccd767",
   "metadata": {},
   "outputs": [
    {
     "name": "stdout",
     "output_type": "stream",
     "text": [
      "(25000,) (25000,)\n"
     ]
    }
   ],
   "source": [
    "print(train_input.shape, test_input.shape) #25000개의 샘플 "
   ]
  },
  {
   "cell_type": "code",
   "execution_count": 7,
   "id": "a53fb64c-8f50-4b93-8f94-724f74d045b8",
   "metadata": {},
   "outputs": [
    {
     "name": "stdout",
     "output_type": "stream",
     "text": [
      "218\n",
      "189\n"
     ]
    }
   ],
   "source": [
    "print(len(train_input[0]))\n",
    "print(len(train_input[1]))"
   ]
  },
  {
   "cell_type": "code",
   "execution_count": 8,
   "id": "35c27e9c-d57d-4b56-95ca-bc3cbe07ba9e",
   "metadata": {},
   "outputs": [
    {
     "name": "stdout",
     "output_type": "stream",
     "text": [
      "[1, 14, 22, 16, 43, 2, 2, 2, 2, 65, 458, 2, 66, 2, 4, 173, 36, 256, 5, 25, 100, 43, 2, 112, 50, 2, 2, 9, 35, 480, 284, 5, 150, 4, 172, 112, 167, 2, 336, 385, 39, 4, 172, 2, 2, 17, 2, 38, 13, 447, 4, 192, 50, 16, 6, 147, 2, 19, 14, 22, 4, 2, 2, 469, 4, 22, 71, 87, 12, 16, 43, 2, 38, 76, 15, 13, 2, 4, 22, 17, 2, 17, 12, 16, 2, 18, 2, 5, 62, 386, 12, 8, 316, 8, 106, 5, 4, 2, 2, 16, 480, 66, 2, 33, 4, 130, 12, 16, 38, 2, 5, 25, 124, 51, 36, 135, 48, 25, 2, 33, 6, 22, 12, 215, 28, 77, 52, 5, 14, 407, 16, 82, 2, 8, 4, 107, 117, 2, 15, 256, 4, 2, 7, 2, 5, 2, 36, 71, 43, 2, 476, 26, 400, 317, 46, 7, 4, 2, 2, 13, 104, 88, 4, 381, 15, 297, 98, 32, 2, 56, 26, 141, 6, 194, 2, 18, 4, 226, 22, 21, 134, 476, 26, 480, 5, 144, 30, 2, 18, 51, 36, 28, 224, 92, 25, 104, 4, 226, 65, 16, 38, 2, 88, 12, 16, 283, 5, 16, 2, 113, 103, 32, 15, 16, 2, 19, 178, 32]\n"
     ]
    }
   ],
   "source": [
    "print(train_input[0])"
   ]
  },
  {
   "cell_type": "markdown",
   "id": "1b913ad8-4d79-4901-a016-51f411074fa2",
   "metadata": {},
   "source": [
    "IMDB데이터는 이미 정수로 변환되어 있음"
   ]
  },
  {
   "cell_type": "code",
   "execution_count": 11,
   "id": "da5cf03b-48af-48ba-9c88-a7c33f5413fa",
   "metadata": {},
   "outputs": [
    {
     "name": "stdout",
     "output_type": "stream",
     "text": [
      "[1 0 0 1 0 0 1 0 1 0 1 0 0 0 0 0 1 1 0 1]\n"
     ]
    }
   ],
   "source": [
    "print(train_target[:20])"
   ]
  },
  {
   "cell_type": "code",
   "execution_count": 12,
   "id": "7cc8968e-0ece-4663-9307-3ac67b7a7caa",
   "metadata": {},
   "outputs": [],
   "source": [
    "from sklearn.model_selection import train_test_split"
   ]
  },
  {
   "cell_type": "code",
   "execution_count": 14,
   "id": "c9278efb-94d4-4332-a04d-614912d597ed",
   "metadata": {},
   "outputs": [],
   "source": [
    "train_input, val_input, train_target, val_target = train_test_split(train_input, train_target, test_size=0.2, random_state=42)"
   ]
  },
  {
   "cell_type": "markdown",
   "id": "ad295107-398c-47e9-9da0-c5a2755d7d1c",
   "metadata": {},
   "source": [
    "### 우선 리뷰 길이의 평균, 최소, 최대를 확인"
   ]
  },
  {
   "cell_type": "code",
   "execution_count": 15,
   "id": "b057ac31-c05e-4035-a5ad-096f55465ef9",
   "metadata": {},
   "outputs": [],
   "source": [
    "import numpy as np\n",
    "lengths = np.array([len(x) for x in train_input])"
   ]
  },
  {
   "cell_type": "code",
   "execution_count": 17,
   "id": "2bfb0bba-d301-4f91-843d-15a1497301c9",
   "metadata": {},
   "outputs": [
    {
     "name": "stdout",
     "output_type": "stream",
     "text": [
      "239.00925 178.0\n"
     ]
    }
   ],
   "source": [
    "print(np.mean(lengths), np.median(lengths))"
   ]
  },
  {
   "cell_type": "code",
   "execution_count": 18,
   "id": "c9846157-9495-42f2-9432-9114f78af55a",
   "metadata": {},
   "outputs": [
    {
     "data": {
      "image/png": "[encoded data removed]",
      "text/plain": [
       "<Figure size 432x288 with 1 Axes>"
      ]
     },
     "metadata": {
      "needs_background": "light"
     },
     "output_type": "display_data"
    }
   ],
   "source": [
    "import matplotlib.pyplot as plt\n",
    "plt.hist(lengths)\n",
    "plt.xlabel('length')\n",
    "plt.ylabel('frequency')\n",
    "plt.show()"
   ]
  },
  {
   "cell_type": "markdown",
   "id": "77b7ba8f-506d-4221-b2a4-7f5a8c6f8035",
   "metadata": {},
   "source": [
    "대부분의 리뷰 길이는 300 미만 (편향)"
   ]
  },
  {
   "cell_type": "code",
   "execution_count": 19,
   "id": "31afa19b-b69d-4f10-8b8f-dd7e11b2ddca",
   "metadata": {},
   "outputs": [],
   "source": [
    "from tensorflow.keras.preprocessing.sequence import pad_sequences #패딩시켜주는 좋은 친구\n",
    "train_seq = pad_sequences(train_input, maxlen=100)"
   ]
  },
  {
   "cell_type": "code",
   "execution_count": 21,
   "id": "7d52223e-3623-4031-b307-4a0659ccf21d",
   "metadata": {},
   "outputs": [
    {
     "name": "stdout",
     "output_type": "stream",
     "text": [
      "(20000, 100)\n"
     ]
    }
   ],
   "source": [
    "print(train_seq.shape) #원래 20000개의 객체 1차원 배열이었는데 패딩 후 2차원 배열이 됨"
   ]
  },
  {
   "cell_type": "code",
   "execution_count": 22,
   "id": "7a6fb178-e470-43d8-9de5-943b92e2e0d9",
   "metadata": {},
   "outputs": [
    {
     "name": "stdout",
     "output_type": "stream",
     "text": [
      "[ 10   4  20   9   2 364 352   5  45   6   2   2  33 269   8   2 142   2\n",
      "   5   2  17  73  17 204   5   2  19  55   2   2  92  66 104  14  20  93\n",
      "  76   2 151  33   4  58  12 188   2 151  12 215  69 224 142  73 237   6\n",
      "   2   7   2   2 188   2 103  14  31  10  10 451   7   2   5   2  80  91\n",
      "   2  30   2  34  14  20 151  50  26 131  49   2  84  46  50  37  80  79\n",
      "   6   2  46   7  14  20  10  10 470 158]\n"
     ]
    }
   ],
   "source": [
    "print(train_seq[0])"
   ]
  },
  {
   "cell_type": "code",
   "execution_count": 23,
   "id": "d7e0143d-cb4d-41d8-bea2-f879f1039702",
   "metadata": {},
   "outputs": [
    {
     "name": "stdout",
     "output_type": "stream",
     "text": [
      "[6, 2, 46, 7, 14, 20, 10, 10, 470, 158]\n"
     ]
    }
   ],
   "source": [
    "print(train_input[0][-10:])# 원본 데이터의 ㅁ자ㅣ막 10개의 토큰과 seq한 데이터의 마지막 10개가 똑같음 -> 앞에서부터 잘랐다. Y? -> 뒤에 나오는 말이 더 중요하다고 판단"
   ]
  },
  {
   "cell_type": "code",
   "execution_count": 24,
   "id": "3b3fdb33-3259-4944-ade1-785df201ce1b",
   "metadata": {},
   "outputs": [
    {
     "name": "stdout",
     "output_type": "stream",
     "text": [
      "[  0   0   0   0   1   2 195  19  49   2   2 190   4   2 352   2 183  10\n",
      "  10  13  82  79   4   2  36  71 269   8   2  25  19  49   7   4   2   2\n",
      "   2   2   2  10  10  48  25  40   2  11   2   2  40   2   2   5   4   2\n",
      "   2  95  14 238  56 129   2  10  10  21   2  94 364 352   2   2  11 190\n",
      "  24 484   2   7  94 205 405  10  10  87   2  34  49   2   7   2   2   2\n",
      "   2   2 290   2  46  48  64  18   4   2]\n"
     ]
    }
   ],
   "source": [
    "print(train_seq[5])"
   ]
  },
  {
   "cell_type": "code",
   "execution_count": 25,
   "id": "1815d2fc-aede-49b0-849b-f28fdd6fc3d1",
   "metadata": {},
   "outputs": [],
   "source": [
    "val_seq = pad_sequences(val_input, maxlen=100)"
   ]
  },
  {
   "cell_type": "markdown",
   "id": "29b41270-be45-4fe8-a142-ae2b215d036b",
   "metadata": {},
   "source": [
    "### 순환 신경망 만들기"
   ]
  },
  {
   "cell_type": "code",
   "execution_count": 28,
   "id": "58f5ef9a-002a-4e32-b876-33356752d5ff",
   "metadata": {},
   "outputs": [],
   "source": [
    "from tensorflow import keras\n",
    "model = keras.Sequential()\n",
    "model.add(keras.layers.SimpleRNN(8, input_shape = (100, 500)))\n",
    "model.add(keras.layers.Dense(1, activation='sigmoid'))"
   ]
  },
  {
   "cell_type": "markdown",
   "id": "78b7b39c-b6e2-4c9c-8446-1a2347fdac68",
   "metadata": {},
   "source": [
    "위에서 simplernn으로 층을 만들 때 input_shape의 두번째 매개변수값을 500으로 해준 이유는 정수 사이에는 어떤 관련도 없는데 정수값에 따라 출력이 바뀌기 때문에 이를 방지하기 위해 원-핫인코딩을 해주기 위해서 500으로 한것이다."
   ]
  },
  {
   "cell_type": "code",
   "execution_count": 29,
   "id": "fc37111b-0281-4ca4-9b72-8982dbd26930",
   "metadata": {},
   "outputs": [],
   "source": [
    "train_oh = keras.utils.to_categorical(train_seq)"
   ]
  },
  {
   "cell_type": "code",
   "execution_count": 31,
   "id": "a260389b-5fac-4ece-bcb7-05d5864b56d6",
   "metadata": {},
   "outputs": [
    {
     "name": "stdout",
     "output_type": "stream",
     "text": [
      "(20000, 100, 500)\n"
     ]
    }
   ],
   "source": [
    "print(train_oh.shape)"
   ]
  },
  {
   "cell_type": "code",
   "execution_count": 33,
   "id": "02f9d0f1-5a8a-4995-a9b4-9eccbef71b61",
   "metadata": {},
   "outputs": [
    {
     "name": "stdout",
     "output_type": "stream",
     "text": [
      "[0. 0. 0. 0. 0. 0. 0. 0. 0. 0. 1. 0.]\n"
     ]
    }
   ],
   "source": [
    "print(train_oh[0][0][:12])"
   ]
  },
  {
   "cell_type": "code",
   "execution_count": 34,
   "id": "ebc724b5-e6c4-4585-b71c-ce56568b8f83",
   "metadata": {},
   "outputs": [
    {
     "name": "stdout",
     "output_type": "stream",
     "text": [
      "1.0\n"
     ]
    }
   ],
   "source": [
    "print(np.sum(train_oh[0][0]))"
   ]
  },
  {
   "cell_type": "code",
   "execution_count": 35,
   "id": "dffdc8dd-ef93-4720-b2bc-95563a670b66",
   "metadata": {},
   "outputs": [],
   "source": [
    "val_oh = keras.utils.to_categorical(val_seq)"
   ]
  },
  {
   "cell_type": "code",
   "execution_count": 36,
   "id": "01c45ba7-7a5a-492f-bcfe-6974a443a26b",
   "metadata": {},
   "outputs": [
    {
     "name": "stdout",
     "output_type": "stream",
     "text": [
      "Model: \"sequential\"\n",
      "_________________________________________________________________\n",
      " Layer (type)                Output Shape              Param #   \n",
      "=================================================================\n",
      " simple_rnn (SimpleRNN)      (None, 8)                 4072      \n",
      "                                                                 \n",
      " dense (Dense)               (None, 1)                 9         \n",
      "                                                                 \n",
      "=================================================================\n",
      "Total params: 4,081\n",
      "Trainable params: 4,081\n",
      "Non-trainable params: 0\n",
      "_________________________________________________________________\n"
     ]
    }
   ],
   "source": [
    "model.summary()"
   ]
  },
  {
   "cell_type": "markdown",
   "id": "afd533f0-19e3-4702-a3fb-2b75327a902c",
   "metadata": {},
   "source": [
    "500*8 + 8*8 + 8 = 4072 -> 원-핫 인코딩으로 인한 배열 * 뉴런 8개 + 뉴런의 은닉 상태 크기 8 * 뉴런 개수 8 + 절편(뉴런 개수) 8"
   ]
  },
  {
   "cell_type": "code",
   "execution_count": 39,
   "id": "a126f764-1bf8-4495-bff1-cda1b0a07b76",
   "metadata": {},
   "outputs": [
    {
     "name": "stdout",
     "output_type": "stream",
     "text": [
      "Epoch 1/100\n",
      "313/313 [==============================] - ETA: 0s - loss: 0.7009 - accuracy: 0.5107"
     ]
    },
    {
     "name": "stderr",
     "output_type": "stream",
     "text": [
      "\n",
      "KeyboardInterrupt\n",
      "\n"
     ]
    }
   ],
   "source": [
    "rmsprop = keras.optimizers.RMSprop(learning_rate = 1e-4)\n",
    "model.compile(optimizer= rmsprop, loss='binary_crossentropy', metrics=['accuracy'])\n",
    "checkpoint_cb = keras.callbacks.ModelCheckpoint('best-simplernn-model.h5', save_best_only=True)\n",
    "early_stopping_cb = keras.callbacks.EarlyStopping(patience =3, restore_best_weights=True)\n",
    "history = model.fit(train_oh, train_target, epochs=100, batch_size=64, validation_data = (val_oh, val_target), callbacks=[checkpoint_cb, early_stopping_cb])"
   ]
  },
  {
   "cell_type": "markdown",
   "id": "cc99e158-c3d3-472c-aef5-f5ea2f7aae50",
   "metadata": {},
   "source": [
    "CPU 사용을 위해 여기서부턴 코렙으로"
   ]
  }
 ],
 "metadata": {
  "kernelspec": {
   "display_name": "Python 3 (ipykernel)",
   "language": "python",
   "name": "python3"
  },
  "language_info": {
   "codemirror_mode": {
    "name": "ipython",
    "version": 3
   },
   "file_extension": ".py",
   "mimetype": "text/x-python",
   "name": "python",
   "nbconvert_exporter": "python",
   "pygments_lexer": "ipython3",
   "version": "3.9.12"
  }
 },
 "nbformat": 4,
 "nbformat_minor": 5
}
