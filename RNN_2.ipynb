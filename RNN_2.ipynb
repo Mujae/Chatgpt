{
  "nbformat": 4,
  "nbformat_minor": 0,
  "metadata": {
    "colab": {
      "provenance": [],
      "toc_visible": true
    },
    "kernelspec": {
      "name": "python3",
      "display_name": "Python 3"
    },
    "language_info": {
      "name": "python"
    },
    "accelerator": "GPU",
    "gpuClass": "standard"
  },
  "cells": [
    {
      "cell_type": "markdown",
      "source": [
        "## RNN + LSTM을 위한 공부-2\n",
        "#### 순환 신경망으로 IMDB 리뷰 분류하기\n",
        "텍스트 데이터의 경우 단어를 숫자 데이터로 바꾸는 일반적인 방법은 데이터에 등장하는 단어마다 고유한 정수를 부여하는 것임. 공백을 기준으로 하고 부린된 단어를 토큰이라고 부름  \n",
        "여기서 토큰에 할당 된 정수 중에 0은 패딩 1은 문장의 시작 2는 어휘 사전에 없는 토큰으로 사용."
      ],
      "metadata": {
        "id": "v08KJ4eKTwUe"
      }
    },
    {
      "cell_type": "code",
      "source": [
        "from tensorflow.keras.datasets import imdb\n",
        "(train_input, train_target), (test_input, test_target) = imdb.load_data(num_words=500)"
      ],
      "metadata": {
        "colab": {
          "base_uri": "https://localhost:8080/"
        },
        "id": "oxi8l4IpUanY",
        "outputId": "ff1c1b49-fa9a-4f9d-b157-e010ec9b625a"
      },
      "execution_count": 2,
      "outputs": [
        {
          "output_type": "stream",
          "name": "stdout",
          "text": [
            "Downloading data from https://storage.googleapis.com/tensorflow/tf-keras-datasets/imdb.npz\n",
            "17464789/17464789 [==============================] - 2s 0us/step\n"
          ]
        }
      ]
    },
    {
      "cell_type": "code",
      "source": [
        "from sklearn.model_selection import train_test_split\n",
        "train_input, val_input, train_target, val_target = train_test_split(train_input, train_target, test_size=0.2, random_state=42)"
      ],
      "metadata": {
        "id": "9kAZ3IJ-Ubny"
      },
      "execution_count": 4,
      "outputs": []
    },
    {
      "cell_type": "code",
      "source": [
        "from tensorflow.keras.preprocessing.sequence import pad_sequences #패딩시켜주는 좋은 친구\n",
        "train_seq = pad_sequences(train_input, maxlen=100)"
      ],
      "metadata": {
        "id": "sKYDSExbUedV"
      },
      "execution_count": 5,
      "outputs": []
    },
    {
      "cell_type": "code",
      "source": [
        "val_seq = pad_sequences(val_input, maxlen=100)"
      ],
      "metadata": {
        "id": "keu-627nUkPA"
      },
      "execution_count": 6,
      "outputs": []
    },
    {
      "cell_type": "code",
      "source": [
        "from tensorflow import keras\n",
        "model = keras.Sequential()\n",
        "model.add(keras.layers.SimpleRNN(8, input_shape = (100, 500)))\n",
        "model.add(keras.layers.Dense(1, activation='sigmoid'))"
      ],
      "metadata": {
        "id": "1TCflSfdUlnw"
      },
      "execution_count": 7,
      "outputs": []
    },
    {
      "cell_type": "code",
      "source": [
        "train_oh = keras.utils.to_categorical(train_seq)"
      ],
      "metadata": {
        "id": "2xFXh3sPUnW2"
      },
      "execution_count": 8,
      "outputs": []
    },
    {
      "cell_type": "code",
      "source": [
        "val_oh = keras.utils.to_categorical(val_seq)"
      ],
      "metadata": {
        "id": "i0XFyJKlUo7T"
      },
      "execution_count": 9,
      "outputs": []
    },
    {
      "cell_type": "code",
      "source": [
        "rmsprop = keras.optimizers.RMSprop(learning_rate = 1e-4)\n",
        "model.compile(optimizer= rmsprop, loss='binary_crossentropy', metrics=['accuracy'])\n",
        "checkpoint_cb = keras.callbacks.ModelCheckpoint('best-simplernn-model.h5', save_best_only=True)\n",
        "early_stopping_cb = keras.callbacks.EarlyStopping(patience =3, restore_best_weights=True)\n",
        "history = model.fit(train_oh, train_target, epochs=100, batch_size=64, validation_data = (val_oh, val_target), callbacks=[checkpoint_cb, early_stopping_cb])"
      ],
      "metadata": {
        "colab": {
          "base_uri": "https://localhost:8080/"
        },
        "id": "G-Cnn13VUqN9",
        "outputId": "87284340-08b1-4d36-c04a-b4f41d129a31"
      },
      "execution_count": 10,
      "outputs": [
        {
          "output_type": "stream",
          "name": "stdout",
          "text": [
            "Epoch 1/100\n",
            "313/313 [==============================] - 26s 73ms/step - loss: 0.7071 - accuracy: 0.4990 - val_loss: 0.7049 - val_accuracy: 0.4936\n",
            "Epoch 2/100\n",
            "313/313 [==============================] - 21s 66ms/step - loss: 0.6900 - accuracy: 0.5336 - val_loss: 0.6748 - val_accuracy: 0.5804\n",
            "Epoch 3/100\n",
            "313/313 [==============================] - 21s 67ms/step - loss: 0.6597 - accuracy: 0.6261 - val_loss: 0.6499 - val_accuracy: 0.6460\n",
            "Epoch 4/100\n",
            "313/313 [==============================] - 21s 68ms/step - loss: 0.6361 - accuracy: 0.6691 - val_loss: 0.6308 - val_accuracy: 0.6816\n",
            "Epoch 5/100\n",
            "313/313 [==============================] - 22s 69ms/step - loss: 0.6157 - accuracy: 0.6979 - val_loss: 0.6119 - val_accuracy: 0.6988\n",
            "Epoch 6/100\n",
            "313/313 [==============================] - 21s 68ms/step - loss: 0.5979 - accuracy: 0.7146 - val_loss: 0.5949 - val_accuracy: 0.7158\n",
            "Epoch 7/100\n",
            "313/313 [==============================] - 21s 68ms/step - loss: 0.5813 - accuracy: 0.7301 - val_loss: 0.5800 - val_accuracy: 0.7248\n",
            "Epoch 8/100\n",
            "313/313 [==============================] - 21s 67ms/step - loss: 0.5663 - accuracy: 0.7400 - val_loss: 0.5668 - val_accuracy: 0.7334\n",
            "Epoch 9/100\n",
            "313/313 [==============================] - 21s 67ms/step - loss: 0.5523 - accuracy: 0.7501 - val_loss: 0.5544 - val_accuracy: 0.7402\n",
            "Epoch 10/100\n",
            "313/313 [==============================] - 21s 67ms/step - loss: 0.5392 - accuracy: 0.7569 - val_loss: 0.5414 - val_accuracy: 0.7538\n",
            "Epoch 11/100\n",
            "313/313 [==============================] - 21s 67ms/step - loss: 0.5271 - accuracy: 0.7660 - val_loss: 0.5339 - val_accuracy: 0.7574\n",
            "Epoch 12/100\n",
            "313/313 [==============================] - 21s 66ms/step - loss: 0.5166 - accuracy: 0.7710 - val_loss: 0.5235 - val_accuracy: 0.7600\n",
            "Epoch 13/100\n",
            "313/313 [==============================] - 22s 71ms/step - loss: 0.5068 - accuracy: 0.7756 - val_loss: 0.5134 - val_accuracy: 0.7692\n",
            "Epoch 14/100\n",
            "313/313 [==============================] - 21s 66ms/step - loss: 0.4975 - accuracy: 0.7790 - val_loss: 0.5079 - val_accuracy: 0.7710\n",
            "Epoch 15/100\n",
            "313/313 [==============================] - 21s 66ms/step - loss: 0.4894 - accuracy: 0.7832 - val_loss: 0.4999 - val_accuracy: 0.7728\n",
            "Epoch 16/100\n",
            "313/313 [==============================] - 21s 66ms/step - loss: 0.4818 - accuracy: 0.7865 - val_loss: 0.4947 - val_accuracy: 0.7756\n",
            "Epoch 17/100\n",
            "313/313 [==============================] - 21s 65ms/step - loss: 0.4748 - accuracy: 0.7886 - val_loss: 0.4905 - val_accuracy: 0.7736\n",
            "Epoch 18/100\n",
            "313/313 [==============================] - 21s 66ms/step - loss: 0.4681 - accuracy: 0.7927 - val_loss: 0.4851 - val_accuracy: 0.7816\n",
            "Epoch 19/100\n",
            "313/313 [==============================] - 20s 65ms/step - loss: 0.4620 - accuracy: 0.7966 - val_loss: 0.4808 - val_accuracy: 0.7840\n",
            "Epoch 20/100\n",
            "313/313 [==============================] - 21s 66ms/step - loss: 0.4565 - accuracy: 0.7978 - val_loss: 0.4779 - val_accuracy: 0.7816\n",
            "Epoch 21/100\n",
            "313/313 [==============================] - 21s 67ms/step - loss: 0.4522 - accuracy: 0.8007 - val_loss: 0.4741 - val_accuracy: 0.7832\n",
            "Epoch 22/100\n",
            "313/313 [==============================] - 21s 67ms/step - loss: 0.4475 - accuracy: 0.8019 - val_loss: 0.4731 - val_accuracy: 0.7838\n",
            "Epoch 23/100\n",
            "313/313 [==============================] - 21s 66ms/step - loss: 0.4430 - accuracy: 0.8048 - val_loss: 0.4687 - val_accuracy: 0.7868\n",
            "Epoch 24/100\n",
            "313/313 [==============================] - 20s 65ms/step - loss: 0.4391 - accuracy: 0.8059 - val_loss: 0.4716 - val_accuracy: 0.7826\n",
            "Epoch 25/100\n",
            "313/313 [==============================] - 20s 65ms/step - loss: 0.4353 - accuracy: 0.8077 - val_loss: 0.4657 - val_accuracy: 0.7848\n",
            "Epoch 26/100\n",
            "313/313 [==============================] - 21s 66ms/step - loss: 0.4322 - accuracy: 0.8078 - val_loss: 0.4644 - val_accuracy: 0.7914\n",
            "Epoch 27/100\n",
            "313/313 [==============================] - 20s 66ms/step - loss: 0.4292 - accuracy: 0.8105 - val_loss: 0.4634 - val_accuracy: 0.7868\n",
            "Epoch 28/100\n",
            "313/313 [==============================] - 22s 70ms/step - loss: 0.4260 - accuracy: 0.8107 - val_loss: 0.4626 - val_accuracy: 0.7946\n",
            "Epoch 29/100\n",
            "313/313 [==============================] - 21s 66ms/step - loss: 0.4239 - accuracy: 0.8122 - val_loss: 0.4602 - val_accuracy: 0.7886\n",
            "Epoch 30/100\n",
            "313/313 [==============================] - 20s 65ms/step - loss: 0.4213 - accuracy: 0.8140 - val_loss: 0.4591 - val_accuracy: 0.7910\n",
            "Epoch 31/100\n",
            "313/313 [==============================] - 20s 65ms/step - loss: 0.4192 - accuracy: 0.8154 - val_loss: 0.4611 - val_accuracy: 0.7880\n",
            "Epoch 32/100\n",
            "313/313 [==============================] - 21s 67ms/step - loss: 0.4174 - accuracy: 0.8149 - val_loss: 0.4581 - val_accuracy: 0.7882\n",
            "Epoch 33/100\n",
            "313/313 [==============================] - 21s 66ms/step - loss: 0.4153 - accuracy: 0.8162 - val_loss: 0.4633 - val_accuracy: 0.7904\n",
            "Epoch 34/100\n",
            "313/313 [==============================] - 20s 65ms/step - loss: 0.4129 - accuracy: 0.8184 - val_loss: 0.4572 - val_accuracy: 0.7906\n",
            "Epoch 35/100\n",
            "313/313 [==============================] - 20s 65ms/step - loss: 0.4112 - accuracy: 0.8187 - val_loss: 0.4618 - val_accuracy: 0.7898\n",
            "Epoch 36/100\n",
            "313/313 [==============================] - 20s 65ms/step - loss: 0.4098 - accuracy: 0.8192 - val_loss: 0.4572 - val_accuracy: 0.7904\n",
            "Epoch 37/100\n",
            "313/313 [==============================] - 21s 66ms/step - loss: 0.4086 - accuracy: 0.8184 - val_loss: 0.4568 - val_accuracy: 0.7920\n",
            "Epoch 38/100\n",
            "313/313 [==============================] - 20s 65ms/step - loss: 0.4073 - accuracy: 0.8200 - val_loss: 0.4587 - val_accuracy: 0.7914\n",
            "Epoch 39/100\n",
            "313/313 [==============================] - 20s 65ms/step - loss: 0.4056 - accuracy: 0.8213 - val_loss: 0.4565 - val_accuracy: 0.7908\n",
            "Epoch 40/100\n",
            "313/313 [==============================] - 21s 66ms/step - loss: 0.4045 - accuracy: 0.8213 - val_loss: 0.4572 - val_accuracy: 0.7938\n",
            "Epoch 41/100\n",
            "313/313 [==============================] - 20s 65ms/step - loss: 0.4033 - accuracy: 0.8221 - val_loss: 0.4557 - val_accuracy: 0.7922\n",
            "Epoch 42/100\n",
            "313/313 [==============================] - 20s 65ms/step - loss: 0.4021 - accuracy: 0.8224 - val_loss: 0.4646 - val_accuracy: 0.7912\n",
            "Epoch 43/100\n",
            "313/313 [==============================] - 20s 64ms/step - loss: 0.4011 - accuracy: 0.8234 - val_loss: 0.4548 - val_accuracy: 0.7936\n",
            "Epoch 44/100\n",
            "313/313 [==============================] - 22s 70ms/step - loss: 0.4002 - accuracy: 0.8231 - val_loss: 0.4602 - val_accuracy: 0.7932\n",
            "Epoch 45/100\n",
            "313/313 [==============================] - 20s 65ms/step - loss: 0.3994 - accuracy: 0.8248 - val_loss: 0.4594 - val_accuracy: 0.7912\n",
            "Epoch 46/100\n",
            "313/313 [==============================] - 20s 65ms/step - loss: 0.3983 - accuracy: 0.8239 - val_loss: 0.4612 - val_accuracy: 0.7948\n"
          ]
        }
      ]
    },
    {
      "cell_type": "code",
      "source": [
        "import matplotlib.pyplot as plt\n",
        "plt.plot(history.history['loss'])\n",
        "plt.plot(history.history['val_loss'])\n",
        "plt.xlabel('epoch')\n",
        "plt.ylabel('loss')\n",
        "plt.legend(['train', 'val'])\n",
        "plt.show()"
      ],
      "metadata": {
        "colab": {
          "base_uri": "https://localhost:8080/",
          "height": 279
        },
        "id": "rx_pIbl0Uryk",
        "outputId": "de8166d3-3ed1-4836-eca2-45ffbab4a1d6"
      },
      "execution_count": 12,
      "outputs": [
        {
          "output_type": "display_data",
          "data": {
            "text/plain": [
              "<Figure size 432x288 with 1 Axes>"
            ],
            "image/png": "[encoded data removed]"
          },
          "metadata": {
            "needs_background": "light"
          }
        }
      ]
    },
    {
      "cell_type": "code",
      "source": [
        "print(train_seq.nbytes, train_oh.nbytes) #원-핫 인코딩으로 변환하면 입력 데이터가 커짐"
      ],
      "metadata": {
        "colab": {
          "base_uri": "https://localhost:8080/"
        },
        "id": "vFcXF56tVaWM",
        "outputId": "ea7b0775-7abd-47c5-802c-3f2262edd3bd"
      },
      "execution_count": 13,
      "outputs": [
        {
          "output_type": "stream",
          "name": "stdout",
          "text": [
            "8000000 4000000000\n"
          ]
        }
      ]
    },
    {
      "cell_type": "markdown",
      "source": [
        "그래서 나온 것이 뭐냐\n",
        "## 바로 단어 임베딩~"
      ],
      "metadata": {
        "id": "Y53rOi3OViwY"
      }
    },
    {
      "cell_type": "code",
      "source": [
        "model2 = keras.Sequential()\n",
        "model2.add(keras.layers.Embedding(500, 16, input_length=100))\n",
        "model2.add(keras.layers.SimpleRNN(8))\n",
        "model2.add(keras.layers.Dense(1, activation='sigmoid'))"
      ],
      "metadata": {
        "id": "gmC2r26DVg3b"
      },
      "execution_count": 14,
      "outputs": []
    },
    {
      "cell_type": "code",
      "source": [
        "model2.summary()"
      ],
      "metadata": {
        "colab": {
          "base_uri": "https://localhost:8080/"
        },
        "id": "zfmvrgGhWup_",
        "outputId": "15ea044a-0a23-489d-c31b-934245c3f35f"
      },
      "execution_count": 15,
      "outputs": [
        {
          "output_type": "stream",
          "name": "stdout",
          "text": [
            "Model: \"sequential_1\"\n",
            "_________________________________________________________________\n",
            " Layer (type)                Output Shape              Param #   \n",
            "=================================================================\n",
            " embedding (Embedding)       (None, 100, 16)           8000      \n",
            "                                                                 \n",
            " simple_rnn_1 (SimpleRNN)    (None, 8)                 200       \n",
            "                                                                 \n",
            " dense_1 (Dense)             (None, 1)                 9         \n",
            "                                                                 \n",
            "=================================================================\n",
            "Total params: 8,209\n",
            "Trainable params: 8,209\n",
            "Non-trainable params: 0\n",
            "_________________________________________________________________\n"
          ]
        }
      ]
    },
    {
      "cell_type": "code",
      "source": [
        "rmsprop = keras.optimizers.RMSprop(learning_rate=1e-4)\n",
        "model2.compile(optimizer=rmsprop, loss='binary_crossentropy',metrics=['accuracy'])\n",
        "checkpoint_cb = keras.callbacks.ModelCheckpoint('best_embedding-model.h5', save_best_only=True)\n",
        "early_stopping_cb = keras.callbacks.EarlyStopping(patience=3, restore_best_weights=True)\n",
        "history = model2.fit(train_seq, train_target, epochs=100, batch_size=64, validation_data=(val_seq, val_target), callbacks=[checkpoint_cb, early_stopping_cb])"
      ],
      "metadata": {
        "colab": {
          "base_uri": "https://localhost:8080/"
        },
        "id": "q44ah7V_WxHA",
        "outputId": "1b37c957-f2fd-4000-b699-b3679ff5666b"
      },
      "execution_count": 16,
      "outputs": [
        {
          "output_type": "stream",
          "name": "stdout",
          "text": [
            "Epoch 1/100\n",
            "313/313 [==============================] - 29s 88ms/step - loss: 0.6942 - accuracy: 0.5099 - val_loss: 0.6898 - val_accuracy: 0.5344\n",
            "Epoch 2/100\n",
            "313/313 [==============================] - 27s 87ms/step - loss: 0.6820 - accuracy: 0.5747 - val_loss: 0.6767 - val_accuracy: 0.6032\n",
            "Epoch 3/100\n",
            "313/313 [==============================] - 27s 87ms/step - loss: 0.6634 - accuracy: 0.6424 - val_loss: 0.6565 - val_accuracy: 0.6592\n",
            "Epoch 4/100\n",
            "313/313 [==============================] - 27s 87ms/step - loss: 0.6420 - accuracy: 0.6881 - val_loss: 0.6392 - val_accuracy: 0.6900\n",
            "Epoch 5/100\n",
            "313/313 [==============================] - 27s 86ms/step - loss: 0.6229 - accuracy: 0.7193 - val_loss: 0.6240 - val_accuracy: 0.7072\n",
            "Epoch 6/100\n",
            "313/313 [==============================] - 27s 88ms/step - loss: 0.6054 - accuracy: 0.7344 - val_loss: 0.6093 - val_accuracy: 0.7200\n",
            "Epoch 7/100\n",
            "313/313 [==============================] - 29s 92ms/step - loss: 0.5896 - accuracy: 0.7455 - val_loss: 0.5968 - val_accuracy: 0.7252\n",
            "Epoch 8/100\n",
            "313/313 [==============================] - 27s 87ms/step - loss: 0.5749 - accuracy: 0.7554 - val_loss: 0.5830 - val_accuracy: 0.7328\n",
            "Epoch 9/100\n",
            "313/313 [==============================] - 27s 87ms/step - loss: 0.5607 - accuracy: 0.7636 - val_loss: 0.5667 - val_accuracy: 0.7582\n",
            "Epoch 10/100\n",
            "313/313 [==============================] - 27s 88ms/step - loss: 0.5462 - accuracy: 0.7718 - val_loss: 0.5614 - val_accuracy: 0.7492\n",
            "Epoch 11/100\n",
            "313/313 [==============================] - 27s 87ms/step - loss: 0.5325 - accuracy: 0.7771 - val_loss: 0.5452 - val_accuracy: 0.7554\n",
            "Epoch 12/100\n",
            "313/313 [==============================] - 27s 88ms/step - loss: 0.5194 - accuracy: 0.7842 - val_loss: 0.5342 - val_accuracy: 0.7616\n",
            "Epoch 13/100\n",
            "313/313 [==============================] - 28s 89ms/step - loss: 0.5069 - accuracy: 0.7883 - val_loss: 0.5278 - val_accuracy: 0.7664\n",
            "Epoch 14/100\n",
            "313/313 [==============================] - 27s 87ms/step - loss: 0.4952 - accuracy: 0.7929 - val_loss: 0.5172 - val_accuracy: 0.7734\n",
            "Epoch 15/100\n",
            "313/313 [==============================] - 28s 90ms/step - loss: 0.4845 - accuracy: 0.7973 - val_loss: 0.5096 - val_accuracy: 0.7738\n",
            "Epoch 16/100\n",
            "313/313 [==============================] - 27s 87ms/step - loss: 0.4742 - accuracy: 0.8027 - val_loss: 0.5050 - val_accuracy: 0.7708\n",
            "Epoch 17/100\n",
            "313/313 [==============================] - 28s 88ms/step - loss: 0.4652 - accuracy: 0.8050 - val_loss: 0.4988 - val_accuracy: 0.7764\n",
            "Epoch 18/100\n",
            "313/313 [==============================] - 29s 94ms/step - loss: 0.4566 - accuracy: 0.8077 - val_loss: 0.4905 - val_accuracy: 0.7814\n",
            "Epoch 19/100\n",
            "313/313 [==============================] - 27s 86ms/step - loss: 0.4488 - accuracy: 0.8095 - val_loss: 0.4897 - val_accuracy: 0.7744\n",
            "Epoch 20/100\n",
            "313/313 [==============================] - 27s 86ms/step - loss: 0.4420 - accuracy: 0.8142 - val_loss: 0.4825 - val_accuracy: 0.7838\n",
            "Epoch 21/100\n",
            "313/313 [==============================] - 27s 87ms/step - loss: 0.4356 - accuracy: 0.8148 - val_loss: 0.4859 - val_accuracy: 0.7784\n",
            "Epoch 22/100\n",
            "313/313 [==============================] - 27s 87ms/step - loss: 0.4299 - accuracy: 0.8169 - val_loss: 0.4783 - val_accuracy: 0.7866\n",
            "Epoch 23/100\n",
            "313/313 [==============================] - 27s 88ms/step - loss: 0.4242 - accuracy: 0.8199 - val_loss: 0.4803 - val_accuracy: 0.7816\n",
            "Epoch 24/100\n",
            "313/313 [==============================] - 28s 89ms/step - loss: 0.4197 - accuracy: 0.8220 - val_loss: 0.4770 - val_accuracy: 0.7826\n",
            "Epoch 25/100\n",
            "313/313 [==============================] - 27s 87ms/step - loss: 0.4151 - accuracy: 0.8235 - val_loss: 0.4739 - val_accuracy: 0.7830\n",
            "Epoch 26/100\n",
            "313/313 [==============================] - 27s 88ms/step - loss: 0.4113 - accuracy: 0.8245 - val_loss: 0.4729 - val_accuracy: 0.7860\n",
            "Epoch 27/100\n",
            "313/313 [==============================] - 27s 88ms/step - loss: 0.4077 - accuracy: 0.8256 - val_loss: 0.4700 - val_accuracy: 0.7860\n",
            "Epoch 28/100\n",
            "313/313 [==============================] - 29s 91ms/step - loss: 0.4044 - accuracy: 0.8266 - val_loss: 0.4700 - val_accuracy: 0.7858\n",
            "Epoch 29/100\n",
            "313/313 [==============================] - 28s 88ms/step - loss: 0.4013 - accuracy: 0.8278 - val_loss: 0.4728 - val_accuracy: 0.7834\n",
            "Epoch 30/100\n",
            "313/313 [==============================] - 28s 88ms/step - loss: 0.3983 - accuracy: 0.8300 - val_loss: 0.4702 - val_accuracy: 0.7844\n"
          ]
        }
      ]
    },
    {
      "cell_type": "code",
      "source": [
        "plt.plot(history.history['loss'])\n",
        "plt.plot(history.history['val_loss'])\n",
        "plt.xlabel('epoch')\n",
        "plt.ylabel('loss')\n",
        "plt.legend(['train', 'val'])\n",
        "plt.show()"
      ],
      "metadata": {
        "colab": {
          "base_uri": "https://localhost:8080/",
          "height": 279
        },
        "id": "7Q1xeDR-X2sQ",
        "outputId": "ac924ae3-e072-4fe8-9535-db44482d1071"
      },
      "execution_count": 17,
      "outputs": [
        {
          "output_type": "display_data",
          "data": {
            "text/plain": [
              "<Figure size 432x288 with 1 Axes>"
            ],
            "image/png": "[encoded data removed]"
          },
          "metadata": {
            "needs_background": "light"
          }
        }
      ]
    },
    {
      "cell_type": "code",
      "source": [],
      "metadata": {
        "id": "juj-c-S8YQx0"
      },
      "execution_count": null,
      "outputs": []
    }
  ]
}