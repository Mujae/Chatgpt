{
  "nbformat": 4,
  "nbformat_minor": 0,
  "metadata": {
    "colab": {
      "provenance": []
    },
    "kernelspec": {
      "name": "python3",
      "display_name": "Python 3"
    },
    "language_info": {
      "name": "python"
    }
  },
  "cells": [
    {
      "cell_type": "code",
      "execution_count": 1,
      "metadata": {
        "id": "rSQcNAuyyU2p"
      },
      "outputs": [],
      "source": [
        "import torch\n",
        "x = torch.tensor([\n",
        "  [1.0, 0.0, 1.0, 0.0],\n",
        "  [0.0, 2.0, 0.0, 2.0],\n",
        "  [1.0, 1.0, 1.0, 1.0],\n",
        "])\n",
        "#셀프 어텐션은 아래의 가중치들을 학습하는 것\n",
        "w_query = torch.tensor([\n",
        "  [1.0, 0.0, 1.0],\n",
        "  [1.0, 0.0, 0.0],\n",
        "  [0.0, 0.0, 1.0],\n",
        "  [0.0, 1.0, 1.0]\n",
        "])\n",
        "w_key = torch.tensor([\n",
        "  [0.0, 0.0, 1.0],\n",
        "  [1.0, 1.0, 0.0],\n",
        "  [0.0, 1.0, 0.0],\n",
        "  [1.0, 1.0, 0.0]\n",
        "])\n",
        "w_value = torch.tensor([\n",
        "  [0.0, 2.0, 0.0],\n",
        "  [0.0, 3.0, 0.0],\n",
        "  [1.0, 0.0, 3.0],\n",
        "  [1.0, 1.0, 0.0]\n",
        "])"
      ]
    },
    {
      "cell_type": "markdown",
      "source": [],
      "metadata": {
        "id": "fsL19KFxy3UR"
      }
    },
    {
      "cell_type": "code",
      "source": [
        "# Query, Key, Value 구하기\n",
        "keys = torch.matmul(x, w_key)\n",
        "querys = torch.matmul(x, w_query)\n",
        "values = torch.matmul(x, w_value)"
      ],
      "metadata": {
        "id": "NVcKEYinyoZq"
      },
      "execution_count": 3,
      "outputs": []
    },
    {
      "cell_type": "code",
      "source": [
        "attn_scores = torch.matmul(querys, keys.T)"
      ],
      "metadata": {
        "id": "aORfop7IzEDD"
      },
      "execution_count": 4,
      "outputs": []
    },
    {
      "cell_type": "code",
      "source": [
        "import numpy as np\n",
        "from torch.nn.functional import softmax\n",
        "key_dim_sqrt = np.sqrt(keys.shape[-1])\n",
        "attn_scores_softmax = softmax(attn_scores / key_dim_sqrt, dim=-1)"
      ],
      "metadata": {
        "id": "B8BX-IntzEhV"
      },
      "execution_count": 5,
      "outputs": []
    },
    {
      "cell_type": "code",
      "source": [
        "weighted_values = torch.matmul(attn_scores_softmax, values)"
      ],
      "metadata": {
        "id": "ubTBKqSEzku6"
      },
      "execution_count": 7,
      "outputs": []
    },
    {
      "cell_type": "code",
      "source": [
        "weighted_values"
      ],
      "metadata": {
        "colab": {
          "base_uri": "https://localhost:8080/"
        },
        "id": "_Ua57_53znUT",
        "outputId": "20c55779-d897-4be0-d008-9c4ee211c4ea"
      },
      "execution_count": 8,
      "outputs": [
        {
          "output_type": "execute_result",
          "data": {
            "text/plain": [
              "tensor([[1.8639, 6.3194, 1.7042],\n",
              "        [1.9991, 7.8141, 0.2735],\n",
              "        [1.9926, 7.4796, 0.7359]])"
            ]
          },
          "metadata": {},
          "execution_count": 8
        }
      ]
    }
  ]
}